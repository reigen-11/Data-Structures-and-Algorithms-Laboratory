{
 "cells": [
  {
   "cell_type": "code",
   "execution_count": null,
   "id": "cb98dc1b-5f5c-405d-9f71-b972965b82e0",
   "metadata": {},
   "outputs": [],
   "source": [
    "def prim(graph: dict, root) -> list:\n",
    "\n",
    "    nodes = list(graph.keys())\n",
    "    nodes.remove(root)\n",
    "\n",
    "    visited = [root]\n",
    "    path = []\n",
    "    next = None\n",
    "\n",
    "    while nodes:\n",
    "        distance = float('inf')\n",
    "        for s in visited:\n",
    "            for d in graph[s]:\n",
    "                if d in visited or s == d:\n",
    "                    continue\n",
    "                if graph[s][d] < distance:\n",
    "                    distance = graph[s][d]\n",
    "                    pre = s\n",
    "                    next = d\n",
    "        path.append((pre, next))\n",
    "        visited.append(next)\n",
    "        nodes.remove(next)\n",
    "\n",
    "    return path\n",
    "\n",
    "\n",
    "if __name__ == '__main__':\n",
    "    graph_dict = {\"s1\": {\"s1\": 0, \"s2\": 2, \"s10\": 3, \"s12\": 4, \"s5\": 3},\n",
    "                  \"s2\": {\"s1\": 1, \"s2\": 0, \"s10\": 4, \"s12\": 2, \"s5\": 2},\n",
    "                  \"s10\": {\"s1\": 2, \"s2\": 6, \"s10\": 0, \"s12\": 3, \"s5\": 4},\n",
    "                  \"s12\": {\"s1\": 3, \"s2\": 5, \"s10\": 2, \"s12\": 0, \"s5\": 2},\n",
    "                  \"s5\": {\"s1\": 3, \"s2\": 5, \"s10\": 2, \"s12\": 4, \"s5\": 0},\n",
    "                  }\n",
    "\n",
    "    path = prim(graph_dict, 's12')\n",
    "    print(path)"
   ]
  }
 ],
 "metadata": {
  "kernelspec": {
   "display_name": "Python 3 (ipykernel)",
   "language": "python",
   "name": "python3"
  },
  "language_info": {
   "codemirror_mode": {
    "name": "ipython",
    "version": 3
   },
   "file_extension": ".py",
   "mimetype": "text/x-python",
   "name": "python",
   "nbconvert_exporter": "python",
   "pygments_lexer": "ipython3",
   "version": "3.9.12"
  }
 },
 "nbformat": 4,
 "nbformat_minor": 5
}
